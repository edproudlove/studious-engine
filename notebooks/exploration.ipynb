{
 "cells": [
  {
   "cell_type": "code",
   "execution_count": 41,
   "id": "e6fadaf1",
   "metadata": {},
   "outputs": [],
   "source": [
    "import numpy as np\n",
    "import pandas as pd\n",
    "\n",
    "from sklearn import preprocessing #if it says that this dosent work look at the python 3 in the top right."
   ]
  },
  {
   "cell_type": "code",
   "execution_count": 42,
   "id": "12b85d59",
   "metadata": {},
   "outputs": [],
   "source": [
    "ORIGINAL_TRAINING_FILE = '/Users/ethan/Desktop/Ethan/Python/ML/framework/input/spaceship-titanic/train.csv'\n",
    "ORIGINAL_TEST_FILE = '/Users/ethan/Desktop/Ethan/Python/ML/framework/input/spaceship-titanic/test.csv'\n",
    "\n"
   ]
  },
  {
   "cell_type": "code",
   "execution_count": 43,
   "id": "a9873e21",
   "metadata": {},
   "outputs": [
    {
     "output_type": "execute_result",
     "data": {
      "text/plain": [
       "PassengerId       0\n",
       "HomePlanet       87\n",
       "CryoSleep        93\n",
       "Cabin           100\n",
       "Destination      92\n",
       "Age              91\n",
       "VIP              93\n",
       "RoomService      82\n",
       "FoodCourt       106\n",
       "ShoppingMall     98\n",
       "Spa             101\n",
       "VRDeck           80\n",
       "Name             94\n",
       "dtype: int64"
      ]
     },
     "metadata": {},
     "execution_count": 43
    }
   ],
   "source": [
    "df = pd.read_csv(ORIGINAL_TRAINING_FILE)\n",
    "test_df = pd.read_csv(ORIGINAL_TEST_FILE)\n",
    "\n",
    "# df.corr() this shows us that age, food court and shoppingmall pretty much dont matter:\n",
    "#I will confirm this using the feature importances thing but still I belive they are unimportant\n",
    "#for the categorical values I will add another value for if it is null -  this can be handelled in the encode func.\n",
    "#df.isna().sum()\n",
    "\n",
    "#now for the numerical values we only need to worry about the room service, spa and vrdeck:\n",
    "#df.drop(categorical_values + values_to_be_dropped, axis=1).isna().sum()\n",
    "test_df.isna().sum()"
   ]
  },
  {
   "cell_type": "code",
   "execution_count": 44,
   "metadata": {},
   "outputs": [],
   "source": [
    "\n",
    "for dataframe in [test_df, df]:\n",
    "    cabin_prefix = []\n",
    "    for string in dataframe['Cabin'].values:\n",
    "        if isinstance(string, float):\n",
    "            cabin_prefix.append(string)\n",
    "        else: \n",
    "            cabin_prefix.append(string.split('/')[0])\n",
    "    dataframe['CabinPrefix']=cabin_prefix"
   ]
  },
  {
   "cell_type": "code",
   "execution_count": 45,
   "id": "c3e86298",
   "metadata": {},
   "outputs": [],
   "source": [
    "df['RoomService'] = df['RoomService'].fillna(df['RoomService'].median())\n",
    "df['Spa'] = df['Spa'].fillna(df['Spa'].median())\n",
    "df['VRDeck'] = df['VRDeck'].fillna(df['VRDeck'].median())\n",
    "\n",
    "test_df['RoomService'] = test_df['RoomService'].fillna(test_df['RoomService'].median())\n",
    "test_df['Spa'] = test_df['Spa'].fillna(test_df['Spa'].median())\n",
    "test_df['VRDeck'] = test_df['VRDeck'].fillna(test_df['VRDeck'].median())\n",
    "#repeating for the test data:\n",
    "#test_df['hasCabin']=test_df['Cabin'].apply(lambda x: 0 if x==0 else 1)\n",
    "#test_df['Family'] = test_df['SibSp'] + test_df['Parch']\n",
    "#test_df['Age'] = test_df['Age'].fillna(test_df['Age'].mean())\n",
    "#test_df['Fare'] = test_df['Fare'].fillna(test_df['Fare'].median())\n"
   ]
  },
  {
   "cell_type": "code",
   "execution_count": 46,
   "metadata": {},
   "outputs": [
    {
     "output_type": "execute_result",
     "data": {
      "text/plain": [
       "     PassengerId HomePlanet CryoSleep     Cabin    Destination   Age    VIP  \\\n",
       "0        0013_01      Earth      True     G/3/S    TRAPPIST-1e  27.0  False   \n",
       "1        0018_01      Earth     False     F/4/S    TRAPPIST-1e  19.0  False   \n",
       "2        0019_01     Europa      True     C/0/S    55 Cancri e  31.0  False   \n",
       "3        0021_01     Europa     False     C/1/S    TRAPPIST-1e  38.0  False   \n",
       "4        0023_01      Earth     False     F/5/S    TRAPPIST-1e  20.0  False   \n",
       "...          ...        ...       ...       ...            ...   ...    ...   \n",
       "4272     9266_02      Earth      True  G/1496/S    TRAPPIST-1e  34.0  False   \n",
       "4273     9269_01      Earth     False       NaN    TRAPPIST-1e  42.0  False   \n",
       "4274     9271_01       Mars      True   D/296/P    55 Cancri e   NaN  False   \n",
       "4275     9273_01     Europa     False   D/297/P            NaN   NaN  False   \n",
       "4276     9277_01      Earth      True  G/1498/S  PSO J318.5-22  43.0  False   \n",
       "\n",
       "      RoomService  FoodCourt  ShoppingMall     Spa  VRDeck              Name  \\\n",
       "0             0.0        0.0           0.0     0.0     0.0   Nelly Carsoning   \n",
       "1             0.0        9.0           0.0  2823.0     0.0    Lerome Peckers   \n",
       "2             0.0        0.0           0.0     0.0     0.0   Sabih Unhearfus   \n",
       "3             0.0     6652.0           0.0   181.0   585.0  Meratz Caltilter   \n",
       "4            10.0        0.0         635.0     0.0     0.0   Brence Harperez   \n",
       "...           ...        ...           ...     ...     ...               ...   \n",
       "4272          0.0        0.0           0.0     0.0     0.0       Jeron Peter   \n",
       "4273          0.0      847.0          17.0    10.0   144.0     Matty Scheron   \n",
       "4274          0.0        0.0           0.0     0.0     0.0       Jayrin Pore   \n",
       "4275          0.0     2680.0           0.0     0.0   523.0    Kitakan Conale   \n",
       "4276          0.0        0.0           0.0     0.0     0.0  Lilace Leonzaley   \n",
       "\n",
       "     CabinPrefix  \n",
       "0              G  \n",
       "1              F  \n",
       "2              C  \n",
       "3              C  \n",
       "4              F  \n",
       "...          ...  \n",
       "4272           G  \n",
       "4273         NaN  \n",
       "4274           D  \n",
       "4275           D  \n",
       "4276           G  \n",
       "\n",
       "[4277 rows x 14 columns]"
      ],
      "text/html": "<div>\n<style scoped>\n    .dataframe tbody tr th:only-of-type {\n        vertical-align: middle;\n    }\n\n    .dataframe tbody tr th {\n        vertical-align: top;\n    }\n\n    .dataframe thead th {\n        text-align: right;\n    }\n</style>\n<table border=\"1\" class=\"dataframe\">\n  <thead>\n    <tr style=\"text-align: right;\">\n      <th></th>\n      <th>PassengerId</th>\n      <th>HomePlanet</th>\n      <th>CryoSleep</th>\n      <th>Cabin</th>\n      <th>Destination</th>\n      <th>Age</th>\n      <th>VIP</th>\n      <th>RoomService</th>\n      <th>FoodCourt</th>\n      <th>ShoppingMall</th>\n      <th>Spa</th>\n      <th>VRDeck</th>\n      <th>Name</th>\n      <th>CabinPrefix</th>\n    </tr>\n  </thead>\n  <tbody>\n    <tr>\n      <th>0</th>\n      <td>0013_01</td>\n      <td>Earth</td>\n      <td>True</td>\n      <td>G/3/S</td>\n      <td>TRAPPIST-1e</td>\n      <td>27.0</td>\n      <td>False</td>\n      <td>0.0</td>\n      <td>0.0</td>\n      <td>0.0</td>\n      <td>0.0</td>\n      <td>0.0</td>\n      <td>Nelly Carsoning</td>\n      <td>G</td>\n    </tr>\n    <tr>\n      <th>1</th>\n      <td>0018_01</td>\n      <td>Earth</td>\n      <td>False</td>\n      <td>F/4/S</td>\n      <td>TRAPPIST-1e</td>\n      <td>19.0</td>\n      <td>False</td>\n      <td>0.0</td>\n      <td>9.0</td>\n      <td>0.0</td>\n      <td>2823.0</td>\n      <td>0.0</td>\n      <td>Lerome Peckers</td>\n      <td>F</td>\n    </tr>\n    <tr>\n      <th>2</th>\n      <td>0019_01</td>\n      <td>Europa</td>\n      <td>True</td>\n      <td>C/0/S</td>\n      <td>55 Cancri e</td>\n      <td>31.0</td>\n      <td>False</td>\n      <td>0.0</td>\n      <td>0.0</td>\n      <td>0.0</td>\n      <td>0.0</td>\n      <td>0.0</td>\n      <td>Sabih Unhearfus</td>\n      <td>C</td>\n    </tr>\n    <tr>\n      <th>3</th>\n      <td>0021_01</td>\n      <td>Europa</td>\n      <td>False</td>\n      <td>C/1/S</td>\n      <td>TRAPPIST-1e</td>\n      <td>38.0</td>\n      <td>False</td>\n      <td>0.0</td>\n      <td>6652.0</td>\n      <td>0.0</td>\n      <td>181.0</td>\n      <td>585.0</td>\n      <td>Meratz Caltilter</td>\n      <td>C</td>\n    </tr>\n    <tr>\n      <th>4</th>\n      <td>0023_01</td>\n      <td>Earth</td>\n      <td>False</td>\n      <td>F/5/S</td>\n      <td>TRAPPIST-1e</td>\n      <td>20.0</td>\n      <td>False</td>\n      <td>10.0</td>\n      <td>0.0</td>\n      <td>635.0</td>\n      <td>0.0</td>\n      <td>0.0</td>\n      <td>Brence Harperez</td>\n      <td>F</td>\n    </tr>\n    <tr>\n      <th>...</th>\n      <td>...</td>\n      <td>...</td>\n      <td>...</td>\n      <td>...</td>\n      <td>...</td>\n      <td>...</td>\n      <td>...</td>\n      <td>...</td>\n      <td>...</td>\n      <td>...</td>\n      <td>...</td>\n      <td>...</td>\n      <td>...</td>\n      <td>...</td>\n    </tr>\n    <tr>\n      <th>4272</th>\n      <td>9266_02</td>\n      <td>Earth</td>\n      <td>True</td>\n      <td>G/1496/S</td>\n      <td>TRAPPIST-1e</td>\n      <td>34.0</td>\n      <td>False</td>\n      <td>0.0</td>\n      <td>0.0</td>\n      <td>0.0</td>\n      <td>0.0</td>\n      <td>0.0</td>\n      <td>Jeron Peter</td>\n      <td>G</td>\n    </tr>\n    <tr>\n      <th>4273</th>\n      <td>9269_01</td>\n      <td>Earth</td>\n      <td>False</td>\n      <td>NaN</td>\n      <td>TRAPPIST-1e</td>\n      <td>42.0</td>\n      <td>False</td>\n      <td>0.0</td>\n      <td>847.0</td>\n      <td>17.0</td>\n      <td>10.0</td>\n      <td>144.0</td>\n      <td>Matty Scheron</td>\n      <td>NaN</td>\n    </tr>\n    <tr>\n      <th>4274</th>\n      <td>9271_01</td>\n      <td>Mars</td>\n      <td>True</td>\n      <td>D/296/P</td>\n      <td>55 Cancri e</td>\n      <td>NaN</td>\n      <td>False</td>\n      <td>0.0</td>\n      <td>0.0</td>\n      <td>0.0</td>\n      <td>0.0</td>\n      <td>0.0</td>\n      <td>Jayrin Pore</td>\n      <td>D</td>\n    </tr>\n    <tr>\n      <th>4275</th>\n      <td>9273_01</td>\n      <td>Europa</td>\n      <td>False</td>\n      <td>D/297/P</td>\n      <td>NaN</td>\n      <td>NaN</td>\n      <td>False</td>\n      <td>0.0</td>\n      <td>2680.0</td>\n      <td>0.0</td>\n      <td>0.0</td>\n      <td>523.0</td>\n      <td>Kitakan Conale</td>\n      <td>D</td>\n    </tr>\n    <tr>\n      <th>4276</th>\n      <td>9277_01</td>\n      <td>Earth</td>\n      <td>True</td>\n      <td>G/1498/S</td>\n      <td>PSO J318.5-22</td>\n      <td>43.0</td>\n      <td>False</td>\n      <td>0.0</td>\n      <td>0.0</td>\n      <td>0.0</td>\n      <td>0.0</td>\n      <td>0.0</td>\n      <td>Lilace Leonzaley</td>\n      <td>G</td>\n    </tr>\n  </tbody>\n</table>\n<p>4277 rows × 14 columns</p>\n</div>"
     },
     "metadata": {},
     "execution_count": 46
    }
   ],
   "source": [
    "test_df"
   ]
  },
  {
   "cell_type": "code",
   "execution_count": 47,
   "id": "b5e9761d",
   "metadata": {},
   "outputs": [],
   "source": [
    "values_to_be_dropped = ['FoodCourt', 'Name', 'ShoppingMall', 'Age', 'Cabin']\n",
    "categorical_values = ['VIP', 'Destination', 'CryoSleep', 'HomePlanet', 'CabinPrefix']\n",
    "\n",
    "test_df = test_df.drop(values_to_be_dropped, axis = 1)\n",
    "df = df.drop(values_to_be_dropped, axis = 1)"
   ]
  },
  {
   "cell_type": "code",
   "execution_count": 48,
   "id": "d916a9dc",
   "metadata": {},
   "outputs": [],
   "source": [
    "#using the one hot encoder:\n",
    "\n",
    "def encode_categories(cat_values, dataframe):\n",
    "    ohe = preprocessing.OneHotEncoder(sparse=False)\n",
    "    for cat in cat_values:\n",
    "        ohe_category = ohe.fit_transform(dataframe[cat].values.reshape(-1, 1))\n",
    "        for i in range(ohe_category.shape[1]):\n",
    "            title = cat + f'_{i}'\n",
    "            dataframe[title] = ohe_category[:, i] #this is all of the values in the i column of the table\n",
    "    dataframe = dataframe.drop(cat_values, axis = 1)\n",
    "    return dataframe\n",
    "            \n",
    "df = encode_categories(categorical_values, df)\n",
    "test_df = encode_categories(categorical_values, test_df)"
   ]
  },
  {
   "cell_type": "code",
   "execution_count": 49,
   "metadata": {},
   "outputs": [
    {
     "output_type": "execute_result",
     "data": {
      "text/plain": [
       "PassengerId      0\n",
       "RoomService      0\n",
       "Spa              0\n",
       "VRDeck           0\n",
       "VIP_0            0\n",
       "VIP_1            0\n",
       "VIP_2            0\n",
       "Destination_0    0\n",
       "Destination_1    0\n",
       "Destination_2    0\n",
       "Destination_3    0\n",
       "CryoSleep_0      0\n",
       "CryoSleep_1      0\n",
       "CryoSleep_2      0\n",
       "HomePlanet_0     0\n",
       "HomePlanet_1     0\n",
       "HomePlanet_2     0\n",
       "HomePlanet_3     0\n",
       "CabinPrefix_0    0\n",
       "CabinPrefix_1    0\n",
       "CabinPrefix_2    0\n",
       "CabinPrefix_3    0\n",
       "CabinPrefix_4    0\n",
       "CabinPrefix_5    0\n",
       "CabinPrefix_6    0\n",
       "CabinPrefix_7    0\n",
       "CabinPrefix_8    0\n",
       "dtype: int64"
      ]
     },
     "metadata": {},
     "execution_count": 49
    }
   ],
   "source": [
    "test_df.isna().sum()"
   ]
  },
  {
   "cell_type": "code",
   "execution_count": 51,
   "id": "49156e3d",
   "metadata": {},
   "outputs": [],
   "source": [
    "#repalce the train data with this:\n",
    "df.to_csv('/Users/ethan/Desktop/Ethan/Python/ML/framework/notebooks/processed_train.csv', index=False)\n",
    "test_df.to_csv('/Users/ethan/Desktop/Ethan/Python/ML/framework/notebooks/processed_test.csv', index=False)"
   ]
  },
  {
   "cell_type": "code",
   "execution_count": null,
   "id": "9e439077",
   "metadata": {},
   "outputs": [],
   "source": []
  },
  {
   "cell_type": "code",
   "execution_count": null,
   "id": "39ff7de0",
   "metadata": {},
   "outputs": [],
   "source": []
  }
 ],
 "metadata": {
  "kernelspec": {
   "display_name": "Python 3 (ipykernel)",
   "language": "python",
   "name": "python3"
  },
  "language_info": {
   "codemirror_mode": {
    "name": "ipython",
    "version": 3
   },
   "file_extension": ".py",
   "mimetype": "text/x-python",
   "name": "python",
   "nbconvert_exporter": "python",
   "pygments_lexer": "ipython3",
   "version": "3.10.4-final"
  }
 },
 "nbformat": 4,
 "nbformat_minor": 5
}