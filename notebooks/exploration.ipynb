{
 "cells": [
  {
   "cell_type": "code",
   "execution_count": 55,
   "id": "e6fadaf1",
   "metadata": {},
   "outputs": [],
   "source": [
    "import numpy as np\n",
    "import pandas as pd\n",
    "\n",
    "from sklearn import preprocessing #if it says that this dosent work look at the python 3 in the top right."
   ]
  },
  {
   "cell_type": "code",
   "execution_count": 56,
   "id": "12b85d59",
   "metadata": {},
   "outputs": [],
   "source": [
    "ORIGINAL_TRAINING_FILE = '/Users/ethan/Desktop/Ethan/Python/ML/framework/input/spaceship-titanic/train.csv'\n",
    "ORIGINAL_TEST_FILE = '/Users/ethan/Desktop/Ethan/Python/ML/framework/input/spaceship-titanic/test.csv'\n",
    "\n"
   ]
  },
  {
   "cell_type": "code",
   "execution_count": 63,
   "id": "a9873e21",
   "metadata": {},
   "outputs": [
    {
     "output_type": "execute_result",
     "data": {
      "text/plain": [
       "     PassengerId HomePlanet CryoSleep     Cabin    Destination   Age    VIP  \\\n",
       "0        0001_01     Europa     False     B/0/P    TRAPPIST-1e  39.0  False   \n",
       "1        0002_01      Earth     False     F/0/S    TRAPPIST-1e  24.0  False   \n",
       "2        0003_01     Europa     False     A/0/S    TRAPPIST-1e  58.0   True   \n",
       "3        0003_02     Europa     False     A/0/S    TRAPPIST-1e  33.0  False   \n",
       "4        0004_01      Earth     False     F/1/S    TRAPPIST-1e  16.0  False   \n",
       "...          ...        ...       ...       ...            ...   ...    ...   \n",
       "8688     9276_01     Europa     False    A/98/P    55 Cancri e  41.0   True   \n",
       "8689     9278_01      Earth      True  G/1499/S  PSO J318.5-22  18.0  False   \n",
       "8690     9279_01      Earth     False  G/1500/S    TRAPPIST-1e  26.0  False   \n",
       "8691     9280_01     Europa     False   E/608/S    55 Cancri e  32.0  False   \n",
       "8692     9280_02     Europa     False   E/608/S    TRAPPIST-1e  44.0  False   \n",
       "\n",
       "      RoomService  FoodCourt  ShoppingMall     Spa  VRDeck               Name  \\\n",
       "0             0.0        0.0           0.0     0.0     0.0    Maham Ofracculy   \n",
       "1           109.0        9.0          25.0   549.0    44.0       Juanna Vines   \n",
       "2            43.0     3576.0           0.0  6715.0    49.0      Altark Susent   \n",
       "3             0.0     1283.0         371.0  3329.0   193.0       Solam Susent   \n",
       "4           303.0       70.0         151.0   565.0     2.0  Willy Santantines   \n",
       "...           ...        ...           ...     ...     ...                ...   \n",
       "8688          0.0     6819.0           0.0  1643.0    74.0  Gravior Noxnuther   \n",
       "8689          0.0        0.0           0.0     0.0     0.0    Kurta Mondalley   \n",
       "8690          0.0        0.0        1872.0     1.0     0.0       Fayey Connon   \n",
       "8691          0.0     1049.0           0.0   353.0  3235.0   Celeon Hontichre   \n",
       "8692        126.0     4688.0           0.0     0.0    12.0   Propsh Hontichre   \n",
       "\n",
       "      Transported  \n",
       "0           False  \n",
       "1            True  \n",
       "2           False  \n",
       "3           False  \n",
       "4            True  \n",
       "...           ...  \n",
       "8688        False  \n",
       "8689        False  \n",
       "8690         True  \n",
       "8691        False  \n",
       "8692         True  \n",
       "\n",
       "[8693 rows x 14 columns]"
      ],
      "text/html": "<div>\n<style scoped>\n    .dataframe tbody tr th:only-of-type {\n        vertical-align: middle;\n    }\n\n    .dataframe tbody tr th {\n        vertical-align: top;\n    }\n\n    .dataframe thead th {\n        text-align: right;\n    }\n</style>\n<table border=\"1\" class=\"dataframe\">\n  <thead>\n    <tr style=\"text-align: right;\">\n      <th></th>\n      <th>PassengerId</th>\n      <th>HomePlanet</th>\n      <th>CryoSleep</th>\n      <th>Cabin</th>\n      <th>Destination</th>\n      <th>Age</th>\n      <th>VIP</th>\n      <th>RoomService</th>\n      <th>FoodCourt</th>\n      <th>ShoppingMall</th>\n      <th>Spa</th>\n      <th>VRDeck</th>\n      <th>Name</th>\n      <th>Transported</th>\n    </tr>\n  </thead>\n  <tbody>\n    <tr>\n      <th>0</th>\n      <td>0001_01</td>\n      <td>Europa</td>\n      <td>False</td>\n      <td>B/0/P</td>\n      <td>TRAPPIST-1e</td>\n      <td>39.0</td>\n      <td>False</td>\n      <td>0.0</td>\n      <td>0.0</td>\n      <td>0.0</td>\n      <td>0.0</td>\n      <td>0.0</td>\n      <td>Maham Ofracculy</td>\n      <td>False</td>\n    </tr>\n    <tr>\n      <th>1</th>\n      <td>0002_01</td>\n      <td>Earth</td>\n      <td>False</td>\n      <td>F/0/S</td>\n      <td>TRAPPIST-1e</td>\n      <td>24.0</td>\n      <td>False</td>\n      <td>109.0</td>\n      <td>9.0</td>\n      <td>25.0</td>\n      <td>549.0</td>\n      <td>44.0</td>\n      <td>Juanna Vines</td>\n      <td>True</td>\n    </tr>\n    <tr>\n      <th>2</th>\n      <td>0003_01</td>\n      <td>Europa</td>\n      <td>False</td>\n      <td>A/0/S</td>\n      <td>TRAPPIST-1e</td>\n      <td>58.0</td>\n      <td>True</td>\n      <td>43.0</td>\n      <td>3576.0</td>\n      <td>0.0</td>\n      <td>6715.0</td>\n      <td>49.0</td>\n      <td>Altark Susent</td>\n      <td>False</td>\n    </tr>\n    <tr>\n      <th>3</th>\n      <td>0003_02</td>\n      <td>Europa</td>\n      <td>False</td>\n      <td>A/0/S</td>\n      <td>TRAPPIST-1e</td>\n      <td>33.0</td>\n      <td>False</td>\n      <td>0.0</td>\n      <td>1283.0</td>\n      <td>371.0</td>\n      <td>3329.0</td>\n      <td>193.0</td>\n      <td>Solam Susent</td>\n      <td>False</td>\n    </tr>\n    <tr>\n      <th>4</th>\n      <td>0004_01</td>\n      <td>Earth</td>\n      <td>False</td>\n      <td>F/1/S</td>\n      <td>TRAPPIST-1e</td>\n      <td>16.0</td>\n      <td>False</td>\n      <td>303.0</td>\n      <td>70.0</td>\n      <td>151.0</td>\n      <td>565.0</td>\n      <td>2.0</td>\n      <td>Willy Santantines</td>\n      <td>True</td>\n    </tr>\n    <tr>\n      <th>...</th>\n      <td>...</td>\n      <td>...</td>\n      <td>...</td>\n      <td>...</td>\n      <td>...</td>\n      <td>...</td>\n      <td>...</td>\n      <td>...</td>\n      <td>...</td>\n      <td>...</td>\n      <td>...</td>\n      <td>...</td>\n      <td>...</td>\n      <td>...</td>\n    </tr>\n    <tr>\n      <th>8688</th>\n      <td>9276_01</td>\n      <td>Europa</td>\n      <td>False</td>\n      <td>A/98/P</td>\n      <td>55 Cancri e</td>\n      <td>41.0</td>\n      <td>True</td>\n      <td>0.0</td>\n      <td>6819.0</td>\n      <td>0.0</td>\n      <td>1643.0</td>\n      <td>74.0</td>\n      <td>Gravior Noxnuther</td>\n      <td>False</td>\n    </tr>\n    <tr>\n      <th>8689</th>\n      <td>9278_01</td>\n      <td>Earth</td>\n      <td>True</td>\n      <td>G/1499/S</td>\n      <td>PSO J318.5-22</td>\n      <td>18.0</td>\n      <td>False</td>\n      <td>0.0</td>\n      <td>0.0</td>\n      <td>0.0</td>\n      <td>0.0</td>\n      <td>0.0</td>\n      <td>Kurta Mondalley</td>\n      <td>False</td>\n    </tr>\n    <tr>\n      <th>8690</th>\n      <td>9279_01</td>\n      <td>Earth</td>\n      <td>False</td>\n      <td>G/1500/S</td>\n      <td>TRAPPIST-1e</td>\n      <td>26.0</td>\n      <td>False</td>\n      <td>0.0</td>\n      <td>0.0</td>\n      <td>1872.0</td>\n      <td>1.0</td>\n      <td>0.0</td>\n      <td>Fayey Connon</td>\n      <td>True</td>\n    </tr>\n    <tr>\n      <th>8691</th>\n      <td>9280_01</td>\n      <td>Europa</td>\n      <td>False</td>\n      <td>E/608/S</td>\n      <td>55 Cancri e</td>\n      <td>32.0</td>\n      <td>False</td>\n      <td>0.0</td>\n      <td>1049.0</td>\n      <td>0.0</td>\n      <td>353.0</td>\n      <td>3235.0</td>\n      <td>Celeon Hontichre</td>\n      <td>False</td>\n    </tr>\n    <tr>\n      <th>8692</th>\n      <td>9280_02</td>\n      <td>Europa</td>\n      <td>False</td>\n      <td>E/608/S</td>\n      <td>TRAPPIST-1e</td>\n      <td>44.0</td>\n      <td>False</td>\n      <td>126.0</td>\n      <td>4688.0</td>\n      <td>0.0</td>\n      <td>0.0</td>\n      <td>12.0</td>\n      <td>Propsh Hontichre</td>\n      <td>True</td>\n    </tr>\n  </tbody>\n</table>\n<p>8693 rows × 14 columns</p>\n</div>"
     },
     "metadata": {},
     "execution_count": 63
    }
   ],
   "source": [
    "df = pd.read_csv(ORIGINAL_TRAINING_FILE)\n",
    "test_df = pd.read_csv(ORIGINAL_TEST_FILE)\n",
    "\n",
    "# df.corr() this shows us that age, food court and shoppingmall pretty much dont matter:\n",
    "#I will confirm this using the feature importances thing but still I belive they are unimportant\n",
    "#for the categorical values I will add another value for if it is null -  this can be handelled in the encode func.\n",
    "#df.isna().sum()\n",
    "\n",
    "#now for the numerical values we only need to worry about the room service, spa and vrdeck:\n",
    "#df.drop(categorical_values + values_to_be_dropped, axis=1).isna().sum()\n",
    "df"
   ]
  },
  {
   "cell_type": "code",
   "execution_count": 64,
   "metadata": {},
   "outputs": [],
   "source": [
    "cabin_prefix = []\n",
    "for string in df['Cabin'].values:\n",
    "    if isinstance(string, float):\n",
    "        cabin_prefix.append(string)\n",
    "    else: \n",
    "        cabin_prefix.append(string.split('/')[0])"
   ]
  },
  {
   "cell_type": "code",
   "execution_count": 65,
   "id": "c3e86298",
   "metadata": {},
   "outputs": [],
   "source": [
    "df['CabinPrefix']=cabin_prefix\n",
    "\n",
    "df['RoomService'] = df['RoomService'].fillna(df['RoomService'].mean())\n",
    "df['Spa'] = df['Spa'].fillna(df['Spa'].mean())\n",
    "df['VRDeck'] = df['VRDeck'].fillna(df['VRDeck'].mean())\n",
    "\n",
    "\n",
    "#repeating for the test data:\n",
    "#test_df['hasCabin']=test_df['Cabin'].apply(lambda x: 0 if x==0 else 1)\n",
    "#test_df['Family'] = test_df['SibSp'] + test_df['Parch']\n",
    "#test_df['Age'] = test_df['Age'].fillna(test_df['Age'].mean())\n",
    "#test_df['Fare'] = test_df['Fare'].fillna(test_df['Fare'].median())\n"
   ]
  },
  {
   "cell_type": "code",
   "execution_count": 38,
   "metadata": {},
   "outputs": [
    {
     "output_type": "execute_result",
     "data": {
      "text/plain": [
       "PassengerId      0\n",
       "RoomService      0\n",
       "Spa              0\n",
       "VRDeck           0\n",
       "Transported      0\n",
       "CabinPrefix    199\n",
       "dtype: int64"
      ]
     },
     "metadata": {},
     "execution_count": 38
    }
   ],
   "source": [
    "df"
   ]
  },
  {
   "cell_type": "code",
   "execution_count": 66,
   "id": "b5e9761d",
   "metadata": {},
   "outputs": [],
   "source": [
    "values_to_be_dropped = ['FoodCourt', 'Name', 'ShoppingMall', 'Age', 'Cabin']\n",
    "categorical_values = ['VIP', 'Destination', 'CryoSleep', 'HomePlanet', 'CabinPrefix']\n",
    "\n",
    "#test_df = test_df.drop(values_to_be_dropped, axis = 1)\n",
    "df = df.drop(values_to_be_dropped, axis = 1)"
   ]
  },
  {
   "cell_type": "code",
   "execution_count": 67,
   "id": "d916a9dc",
   "metadata": {},
   "outputs": [],
   "source": [
    "#using the one hot encoder:\n",
    "\n",
    "def encode_categories(cat_values, dataframe):\n",
    "    ohe = preprocessing.OneHotEncoder(sparse=False)\n",
    "    for cat in cat_values:\n",
    "        ohe_category = ohe.fit_transform(dataframe[cat].values.reshape(-1, 1))\n",
    "        for i in range(ohe_category.shape[1]):\n",
    "            title = cat + f'_{i}'\n",
    "            dataframe[title] = ohe_category[:, i] #this is all of the values in the i column of the table\n",
    "    dataframe = dataframe.drop(cat_values, axis = 1)\n",
    "    return dataframe\n",
    "            \n",
    "df = encode_categories(categorical_values, df)\n",
    "#test_df = encode_categories(categorical_values, test_df)"
   ]
  },
  {
   "cell_type": "code",
   "execution_count": 69,
   "metadata": {},
   "outputs": [
    {
     "output_type": "execute_result",
     "data": {
      "text/plain": [
       "PassengerId      0\n",
       "RoomService      0\n",
       "Spa              0\n",
       "VRDeck           0\n",
       "Transported      0\n",
       "VIP_0            0\n",
       "VIP_1            0\n",
       "VIP_2            0\n",
       "Destination_0    0\n",
       "Destination_1    0\n",
       "Destination_2    0\n",
       "Destination_3    0\n",
       "CryoSleep_0      0\n",
       "CryoSleep_1      0\n",
       "CryoSleep_2      0\n",
       "HomePlanet_0     0\n",
       "HomePlanet_1     0\n",
       "HomePlanet_2     0\n",
       "HomePlanet_3     0\n",
       "CabinPrefix_0    0\n",
       "CabinPrefix_1    0\n",
       "CabinPrefix_2    0\n",
       "CabinPrefix_3    0\n",
       "CabinPrefix_4    0\n",
       "CabinPrefix_5    0\n",
       "CabinPrefix_6    0\n",
       "CabinPrefix_7    0\n",
       "CabinPrefix_8    0\n",
       "dtype: int64"
      ]
     },
     "metadata": {},
     "execution_count": 69
    }
   ],
   "source": [
    "df.isna().sum()"
   ]
  },
  {
   "cell_type": "code",
   "execution_count": 70,
   "id": "49156e3d",
   "metadata": {},
   "outputs": [],
   "source": [
    "#repalce the train data with this:\n",
    "df.to_csv('/Users/ethan/Desktop/Ethan/Python/ML/framework/notebooks/processed_train.csv', index=False)\n",
    "#test_df.to_csv('/Users/ethan/Desktop/Ethan/Python/ML/framework/notebooks/processed_test.csv', index=False)"
   ]
  },
  {
   "cell_type": "code",
   "execution_count": null,
   "id": "9e439077",
   "metadata": {},
   "outputs": [],
   "source": []
  },
  {
   "cell_type": "code",
   "execution_count": null,
   "id": "39ff7de0",
   "metadata": {},
   "outputs": [],
   "source": []
  }
 ],
 "metadata": {
  "kernelspec": {
   "display_name": "Python 3 (ipykernel)",
   "language": "python",
   "name": "python3"
  },
  "language_info": {
   "codemirror_mode": {
    "name": "ipython",
    "version": 3
   },
   "file_extension": ".py",
   "mimetype": "text/x-python",
   "name": "python",
   "nbconvert_exporter": "python",
   "pygments_lexer": "ipython3",
   "version": "3.10.4-final"
  }
 },
 "nbformat": 4,
 "nbformat_minor": 5
}